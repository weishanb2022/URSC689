{
  "nbformat": 4,
  "nbformat_minor": 0,
  "metadata": {
    "colab": {
      "provenance": [],
      "authorship_tag": "ABX9TyNHx5Bk7ylKdvkQLDxMyFwS",
      "include_colab_link": true
    },
    "kernelspec": {
      "name": "python3",
      "display_name": "Python 3"
    },
    "language_info": {
      "name": "python"
    }
  },
  "cells": [
    {
      "cell_type": "markdown",
      "metadata": {
        "id": "view-in-github",
        "colab_type": "text"
      },
      "source": [
        "<a href=\"https://colab.research.google.com/github/weishanb2022/URSC689/blob/main/github.ipynb\" target=\"_parent\"><img src=\"https://colab.research.google.com/assets/colab-badge.svg\" alt=\"Open In Colab\"/></a>"
      ]
    },
    {
      "cell_type": "code",
      "execution_count": null,
      "metadata": {
        "colab": {
          "base_uri": "https://localhost:8080/"
        },
        "id": "X1VNVRU5EtKL",
        "outputId": "c853c223-c8ee-42aa-8bfe-33149905cf1c"
      },
      "outputs": [
        {
          "output_type": "stream",
          "name": "stdout",
          "text": [
            "Cloning into 'URSC689'...\n",
            "remote: Enumerating objects: 49, done.\u001b[K\n",
            "remote: Counting objects: 100% (49/49), done.\u001b[K\n",
            "remote: Compressing objects: 100% (44/44), done.\u001b[K\n",
            "remote: Total 49 (delta 13), reused 0 (delta 0), pack-reused 0\u001b[K\n",
            "Unpacking objects: 100% (49/49), 12.39 KiB | 1.13 MiB/s, done.\n"
          ]
        }
      ],
      "source": []
    },
    {
      "cell_type": "code",
      "source": [
        "from google.colab import drive\n",
        "drive.mount('/content/drive')"
      ],
      "metadata": {
        "colab": {
          "base_uri": "https://localhost:8080/"
        },
        "id": "d7ohJa6z0l98",
        "outputId": "2f12329a-c187-458e-f067-2002737a2ef4"
      },
      "execution_count": null,
      "outputs": [
        {
          "output_type": "stream",
          "name": "stdout",
          "text": [
            "Mounted at /content/drive\n"
          ]
        }
      ]
    },
    {
      "cell_type": "code",
      "source": [
        "!git  clone https://github.com/weishanb2022/URSC689.git"
      ],
      "metadata": {
        "colab": {
          "base_uri": "https://localhost:8080/"
        },
        "id": "70qIJmn7FQAK",
        "outputId": "6bfd1b34-ca83-4654-c9d8-d08e2f5130de"
      },
      "execution_count": null,
      "outputs": [
        {
          "output_type": "stream",
          "name": "stdout",
          "text": [
            "Cloning into 'URSC689'...\n",
            "remote: Enumerating objects: 49, done.\u001b[K\n",
            "remote: Counting objects: 100% (49/49), done.\u001b[K\n",
            "remote: Compressing objects: 100% (44/44), done.\u001b[K\n",
            "remote: Total 49 (delta 13), reused 0 (delta 0), pack-reused 0\u001b[K\n",
            "Unpacking objects: 100% (49/49), 12.39 KiB | 975.00 KiB/s, done.\n"
          ]
        }
      ]
    },
    {
      "cell_type": "code",
      "source": [
        "%cd /content/drive/MyDrive"
      ],
      "metadata": {
        "colab": {
          "base_uri": "https://localhost:8080/"
        },
        "id": "WBZ8O5NdFpuN",
        "outputId": "c284c889-ac13-44be-bee0-59c8f276fb8c"
      },
      "execution_count": null,
      "outputs": [
        {
          "output_type": "stream",
          "name": "stdout",
          "text": [
            "/content/drive/MyDrive\n"
          ]
        }
      ]
    },
    {
      "cell_type": "code",
      "source": [
        "%ls"
      ],
      "metadata": {
        "colab": {
          "base_uri": "https://localhost:8080/"
        },
        "id": "D28Yti3n1HfX",
        "outputId": "817052fe-71c0-4514-e34e-67630f386ca5"
      },
      "execution_count": null,
      "outputs": [
        {
          "output_type": "stream",
          "name": "stdout",
          "text": [
            " 601.pptx\n",
            "\u001b[0m\u001b[01;34m'Colab Notebooks'\u001b[0m/\n",
            "'Comments for Brad Anderson.gdoc'\n",
            "'Comments for Breiana DeGrate.gdoc'\n",
            "'Comments for Flavia Patrascu.gdoc'\n",
            "'Comments for Jorge Losoya.gdoc'\n",
            "'Comments for Ken.gdoc'\n",
            "'Comments for Shoujia.gdoc'\n",
            "'Comments for Tiancheng.gdoc'\n",
            "'Comments for Xiaoyu.gdoc'\n",
            "'draft of proposal.gdoc'\n",
            "'Event Registration.gform'\n",
            "\u001b[01;34m'Harvey images'\u001b[0m/\n",
            "'Knime training 10072022 (1).xlsx'\n",
            "'Knime training 10072022.xlsx'\n",
            "'One pg summary draft_Weishan Bai.gdoc'\n",
            " \u001b[01;34mPOI_Visitor\u001b[0m/\n",
            "\u001b[01;34m'population downscaling'\u001b[0m/\n",
            "'Technical Reports: Population downscaling with remote sensing information –A case Study in Galveston Island, TX.gdoc'\n",
            "'Untitled site.gsite'\n",
            " \u001b[01;34mURSC689\u001b[0m/\n",
            "\u001b[01;34m'URSC 689 Workflow Draft'\u001b[0m/\n"
          ]
        }
      ]
    },
    {
      "cell_type": "code",
      "source": [
        "with open('index.html', 'r') as f:\n",
        "    print(f.read())"
      ],
      "metadata": {
        "colab": {
          "base_uri": "https://localhost:8080/"
        },
        "id": "Je9IQRXGFuXz",
        "outputId": "1f2f5d86-c42d-4b14-e129-83094e43efcf"
      },
      "execution_count": null,
      "outputs": [
        {
          "output_type": "stream",
          "name": "stdout",
          "text": [
            "<!DOCTYPE html>\n",
            "<html>\n",
            "  <head>\n",
            "    <title>My title</title>\n",
            "  </head>\n",
            "  <body>\n",
            "    <h1>Welcome to Weishan Bai's homepage!</h1>\n",
            "    <p>The project processes will display on this page</p>\n",
            "  </body>\n",
            "</html>\n",
            "\n"
          ]
        }
      ]
    },
    {
      "cell_type": "code",
      "source": [
        "print(\"make some change\")"
      ],
      "metadata": {
        "colab": {
          "base_uri": "https://localhost:8080/"
        },
        "id": "JfdjYxfPGGYg",
        "outputId": "40cd7263-6db1-47a7-80a1-8f325ff07464"
      },
      "execution_count": 24,
      "outputs": [
        {
          "output_type": "stream",
          "name": "stdout",
          "text": [
            "make some change\n"
          ]
        }
      ]
    },
    {
      "cell_type": "code",
      "source": [],
      "metadata": {
        "id": "EkwIpFOKGeTG"
      },
      "execution_count": null,
      "outputs": []
    }
  ]
}